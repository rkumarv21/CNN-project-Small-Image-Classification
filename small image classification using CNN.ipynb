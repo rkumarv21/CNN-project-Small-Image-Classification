{
 "cells": [
  {
   "cell_type": "markdown",
   "id": "6ad32dc6",
   "metadata": {},
   "source": [
    "**GOAL:** We will classify small images cifar10 dataset from tensorflow keras datasets. "
   ]
  },
  {
   "cell_type": "code",
   "execution_count": 3,
   "id": "148e6f00",
   "metadata": {},
   "outputs": [],
   "source": [
    "import pandas as pd \n",
    "import numpy as np\n",
    "\n",
    "import seaborn as sns\n",
    "import matplotlib.pyplot as plt\n",
    "%matplotlib inline\n",
    "\n",
    "import warnings\n",
    "warnings.filterwarnings('ignore')\n",
    "\n",
    "import tensorflow as tf\n",
    "from tensorflow.keras import datasets, layers, models"
   ]
  },
  {
   "cell_type": "markdown",
   "id": "33dfa4c1",
   "metadata": {},
   "source": [
    "## Loading the data"
   ]
  },
  {
   "cell_type": "code",
   "execution_count": 4,
   "id": "abbf6be7",
   "metadata": {},
   "outputs": [
    {
     "name": "stdout",
     "output_type": "stream",
     "text": [
      "Downloading data from https://www.cs.toronto.edu/~kriz/cifar-10-python.tar.gz\n",
      "170498071/170498071 [==============================] - 71s 0us/step\n"
     ]
    }
   ],
   "source": [
    "(X_train, y_train), (X_test, y_test) = datasets.cifar10.load_data()"
   ]
  },
  {
   "cell_type": "code",
   "execution_count": 5,
   "id": "e9fc977d",
   "metadata": {},
   "outputs": [
    {
     "data": {
      "text/plain": [
       "(50000, 32, 32, 3)"
      ]
     },
     "execution_count": 5,
     "metadata": {},
     "output_type": "execute_result"
    }
   ],
   "source": [
    "X_train.shape"
   ]
  },
  {
   "cell_type": "code",
   "execution_count": 6,
   "id": "14087b35",
   "metadata": {},
   "outputs": [
    {
     "data": {
      "text/plain": [
       "(10000, 32, 32, 3)"
      ]
     },
     "execution_count": 6,
     "metadata": {},
     "output_type": "execute_result"
    }
   ],
   "source": [
    "X_test.shape"
   ]
  },
  {
   "cell_type": "code",
   "execution_count": 7,
   "id": "e35a5d6f",
   "metadata": {},
   "outputs": [
    {
     "data": {
      "text/plain": [
       "(50000, 1)"
      ]
     },
     "execution_count": 7,
     "metadata": {},
     "output_type": "execute_result"
    }
   ],
   "source": [
    "y_train.shape"
   ]
  },
  {
   "cell_type": "code",
   "execution_count": 8,
   "id": "013c8c1f",
   "metadata": {},
   "outputs": [
    {
     "data": {
      "text/plain": [
       "(10000, 1)"
      ]
     },
     "execution_count": 8,
     "metadata": {},
     "output_type": "execute_result"
    }
   ],
   "source": [
    "y_test.shape"
   ]
  },
  {
   "cell_type": "code",
   "execution_count": 9,
   "id": "328203f3",
   "metadata": {},
   "outputs": [
    {
     "data": {
      "text/plain": [
       "array([[6],\n",
       "       [9],\n",
       "       [9],\n",
       "       ...,\n",
       "       [9],\n",
       "       [1],\n",
       "       [1]], dtype=uint8)"
      ]
     },
     "execution_count": 9,
     "metadata": {},
     "output_type": "execute_result"
    }
   ],
   "source": [
    "y_train"
   ]
  },
  {
   "cell_type": "markdown",
   "id": "3b318d03",
   "metadata": {},
   "source": [
    "it's shape is of two dimensions hence let's convert it into one dimension by reshaping it."
   ]
  },
  {
   "cell_type": "code",
   "execution_count": 13,
   "id": "f6a58708",
   "metadata": {},
   "outputs": [
    {
     "data": {
      "text/plain": [
       "array([6, 9, 9, ..., 9, 1, 1], dtype=uint8)"
      ]
     },
     "execution_count": 13,
     "metadata": {},
     "output_type": "execute_result"
    }
   ],
   "source": [
    "y_train = y_train.reshape(-1,)\n",
    "y_train"
   ]
  },
  {
   "cell_type": "code",
   "execution_count": 15,
   "id": "fcee0428",
   "metadata": {},
   "outputs": [
    {
     "data": {
      "text/plain": [
       "array([3, 8, 8, 0, 6], dtype=uint8)"
      ]
     },
     "execution_count": 15,
     "metadata": {},
     "output_type": "execute_result"
    }
   ],
   "source": [
    "y_test = y_test.reshape(-1,)\n",
    "y_test[:5]"
   ]
  },
  {
   "cell_type": "markdown",
   "id": "0038084b",
   "metadata": {},
   "source": [
    "+ **for our data, the name of the labels are given as:**"
   ]
  },
  {
   "cell_type": "code",
   "execution_count": 16,
   "id": "7592d6f2",
   "metadata": {},
   "outputs": [],
   "source": [
    "classes = [\"airplane\",\"automobile\",\"bird\",\"cat\",\"deer\",\"dog\",\"frog\",\"horse\",\"ship\",\"truck\"]"
   ]
  },
  {
   "cell_type": "markdown",
   "id": "769ef313",
   "metadata": {},
   "source": [
    "+ let's plot some images by using imshaow"
   ]
  },
  {
   "cell_type": "code",
   "execution_count": 21,
   "id": "c11befbb",
   "metadata": {},
   "outputs": [],
   "source": [
    "def show_image(X, y, index):\n",
    "    plt.figure(figsize = (8,5))\n",
    "    plt.imshow(X[index])\n",
    "    plt.xlabel(classes[y[index]])"
   ]
  },
  {
   "cell_type": "code",
   "execution_count": 23,
   "id": "2b907a52",
   "metadata": {},
   "outputs": [
    {
     "data": {
      "image/png": "[encoded data removed]",
      "text/plain": [
       "<Figure size 576x360 with 1 Axes>"
      ]
     },
     "metadata": {
      "needs_background": "light"
     },
     "output_type": "display_data"
    }
   ],
   "source": [
    "show_image(X_train, y_train, 7)"
   ]
  },
  {
   "cell_type": "code",
   "execution_count": 24,
   "id": "643c8288",
   "metadata": {},
   "outputs": [
    {
     "data": {
      "image/png": "[encoded data removed]",
      "text/plain": [
       "<Figure size 576x360 with 1 Axes>"
      ]
     },
     "metadata": {
      "needs_background": "light"
     },
     "output_type": "display_data"
    }
   ],
   "source": [
    "show_image(X_test, y_test, 4)"
   ]
  },
  {
   "cell_type": "code",
   "execution_count": 25,
   "id": "312a8d72",
   "metadata": {},
   "outputs": [
    {
     "data": {
      "text/plain": [
       "255"
      ]
     },
     "execution_count": 25,
     "metadata": {},
     "output_type": "execute_result"
    }
   ],
   "source": [
    "X_train.max()"
   ]
  },
  {
   "cell_type": "code",
   "execution_count": 26,
   "id": "8f139684",
   "metadata": {},
   "outputs": [
    {
     "data": {
      "text/plain": [
       "255"
      ]
     },
     "execution_count": 26,
     "metadata": {},
     "output_type": "execute_result"
    }
   ],
   "source": [
    "X_test.max()"
   ]
  },
  {
   "cell_type": "markdown",
   "id": "209a91ca",
   "metadata": {},
   "source": [
    "+ Let's now normalises the image in between 0 & 1."
   ]
  },
  {
   "cell_type": "code",
   "execution_count": 27,
   "id": "39afb703",
   "metadata": {},
   "outputs": [],
   "source": [
    "X_test = X_test/255\n",
    "X_train = X_train/255"
   ]
  },
  {
   "cell_type": "markdown",
   "id": "35fd9ab4",
   "metadata": {},
   "source": [
    "### use of ANN for image classification"
   ]
  },
  {
   "cell_type": "code",
   "execution_count": 34,
   "id": "860366a2",
   "metadata": {},
   "outputs": [
    {
     "name": "stdout",
     "output_type": "stream",
     "text": [
      "Epoch 1/5\n",
      "1563/1563 [==============================] - 294s 181ms/step - loss: 1.8226 - accuracy: 0.3465\n",
      "Epoch 2/5\n",
      "1563/1563 [==============================] - 290s 185ms/step - loss: 1.6238 - accuracy: 0.4224\n",
      "Epoch 3/5\n",
      "1563/1563 [==============================] - 300s 192ms/step - loss: 1.5370 - accuracy: 0.4535\n",
      "Epoch 4/5\n",
      "1563/1563 [==============================] - 316s 202ms/step - loss: 1.4719 - accuracy: 0.4788\n",
      "Epoch 5/5\n",
      "1563/1563 [==============================] - 291s 186ms/step - loss: 1.4208 - accuracy: 0.4972\n"
     ]
    },
    {
     "data": {
      "text/plain": [
       "<keras.callbacks.History at 0x23d35a316a0>"
      ]
     },
     "execution_count": 34,
     "metadata": {},
     "output_type": "execute_result"
    }
   ],
   "source": [
    "ann_model = models.Sequential([\n",
    "        layers.Flatten(input_shape=(32,32,3)),\n",
    "        layers.Dense(3000, activation='relu'),\n",
    "        layers.Dense(1000, activation='relu'),\n",
    "        layers.Dense(500, activation='relu'),\n",
    "        layers.Dense(10, activation='softmax')    \n",
    "    ])\n",
    "\n",
    "ann_model.compile(optimizer = 'SGD',\n",
    "                 loss = 'sparse_categorical_crossentropy',\n",
    "                 metrics = ['accuracy'])\n",
    "\n",
    "ann_model.fit(X_train, y_train, epochs = 5)"
   ]
  },
  {
   "cell_type": "code",
   "execution_count": 36,
   "id": "409f34b7",
   "metadata": {},
   "outputs": [],
   "source": [
    "from sklearn.metrics import classification_report, accuracy_score"
   ]
  },
  {
   "cell_type": "code",
   "execution_count": 37,
   "id": "c439e6bc",
   "metadata": {
    "scrolled": true
   },
   "outputs": [
    {
     "name": "stdout",
     "output_type": "stream",
     "text": [
      "313/313 [==============================] - 24s 68ms/step\n"
     ]
    }
   ],
   "source": [
    "y_pred = ann_model.predict(X_test)"
   ]
  },
  {
   "cell_type": "code",
   "execution_count": 39,
   "id": "9adab41e",
   "metadata": {
    "scrolled": true
   },
   "outputs": [
    {
     "name": "stdout",
     "output_type": "stream",
     "text": [
      "classification report :               precision    recall  f1-score   support\n",
      "\n",
      "           0       0.73      0.37      0.49      1000\n",
      "           1       0.67      0.41      0.51      1000\n",
      "           2       0.47      0.26      0.34      1000\n",
      "           3       0.33      0.33      0.33      1000\n",
      "           4       0.60      0.13      0.21      1000\n",
      "           5       0.39      0.39      0.39      1000\n",
      "           6       0.52      0.55      0.53      1000\n",
      "           7       0.37      0.71      0.49      1000\n",
      "           8       0.71      0.42      0.53      1000\n",
      "           9       0.32      0.81      0.46      1000\n",
      "\n",
      "    accuracy                           0.44     10000\n",
      "   macro avg       0.51      0.44      0.43     10000\n",
      "weighted avg       0.51      0.44      0.43     10000\n",
      "\n"
     ]
    }
   ],
   "source": [
    "y_pred_classes = [np.argmax(element) for element in y_pred]\n",
    "print(f'classification report : {classification_report(y_test, y_pred_classes)}')"
   ]
  },
  {
   "cell_type": "markdown",
   "id": "0a94d74b",
   "metadata": {},
   "source": [
    "+ Less accuracy of the model hence i have to go for CNN model\n",
    "\n",
    "### CNN for image classification"
   ]
  },
  {
   "cell_type": "code",
   "execution_count": 42,
   "id": "98d77fa6",
   "metadata": {},
   "outputs": [],
   "source": [
    "cnn_model = models.Sequential([\n",
    "    layers.Conv2D(filters=32, kernel_size=(3, 3), activation='relu', input_shape=(32, 32, 3)),\n",
    "    layers.MaxPooling2D((2, 2)),\n",
    "    \n",
    "    layers.Conv2D(filters=64, kernel_size=(3, 3), activation='relu'),\n",
    "    layers.MaxPooling2D((2, 2)),\n",
    "    \n",
    "    layers.Flatten(),\n",
    "    layers.Dense(64, activation='relu'),\n",
    "    layers.Dense(10, activation='softmax')\n",
    "])"
   ]
  },
  {
   "cell_type": "code",
   "execution_count": 43,
   "id": "69a871e2",
   "metadata": {},
   "outputs": [],
   "source": [
    "cnn_model.compile(optimizer = 'adam',\n",
    "                 loss = 'sparse_categorical_crossentropy',\n",
    "                 metrics = 'accuracy')"
   ]
  },
  {
   "cell_type": "code",
   "execution_count": 45,
   "id": "e318bc88",
   "metadata": {},
   "outputs": [
    {
     "name": "stdout",
     "output_type": "stream",
     "text": [
      "Epoch 1/10\n",
      "1563/1563 [==============================] - 197s 111ms/step - loss: 1.5126 - accuracy: 0.4531 - val_loss: 1.2590 - val_accuracy: 0.5546\n",
      "Epoch 2/10\n",
      "1563/1563 [==============================] - 141s 90ms/step - loss: 1.1516 - accuracy: 0.5949 - val_loss: 1.0718 - val_accuracy: 0.6246\n",
      "Epoch 3/10\n",
      "1563/1563 [==============================] - 143s 92ms/step - loss: 1.0088 - accuracy: 0.6486 - val_loss: 1.0321 - val_accuracy: 0.6415\n",
      "Epoch 4/10\n",
      "1563/1563 [==============================] - 143s 91ms/step - loss: 0.9272 - accuracy: 0.6799 - val_loss: 0.9828 - val_accuracy: 0.6561\n",
      "Epoch 5/10\n",
      "1563/1563 [==============================] - 143s 92ms/step - loss: 0.8652 - accuracy: 0.6994 - val_loss: 0.9372 - val_accuracy: 0.6797\n",
      "Epoch 6/10\n",
      "1563/1563 [==============================] - 144s 92ms/step - loss: 0.8064 - accuracy: 0.7200 - val_loss: 0.9539 - val_accuracy: 0.6752\n",
      "Epoch 7/10\n",
      "1563/1563 [==============================] - 143s 92ms/step - loss: 0.7579 - accuracy: 0.7359 - val_loss: 0.8923 - val_accuracy: 0.6983\n",
      "Epoch 8/10\n",
      "1563/1563 [==============================] - 143s 92ms/step - loss: 0.7151 - accuracy: 0.7508 - val_loss: 0.9353 - val_accuracy: 0.6915\n",
      "Epoch 9/10\n",
      "1563/1563 [==============================] - 144s 92ms/step - loss: 0.6778 - accuracy: 0.7619 - val_loss: 0.9139 - val_accuracy: 0.7015\n",
      "Epoch 10/10\n",
      "1563/1563 [==============================] - 146s 94ms/step - loss: 0.6379 - accuracy: 0.7776 - val_loss: 0.8910 - val_accuracy: 0.7055\n"
     ]
    },
    {
     "data": {
      "text/plain": [
       "<keras.callbacks.History at 0x23d8effcca0>"
      ]
     },
     "execution_count": 45,
     "metadata": {},
     "output_type": "execute_result"
    }
   ],
   "source": [
    "cnn_model.fit(X_train, y_train, epochs = 10, validation_data = (X_test, y_test))"
   ]
  },
  {
   "cell_type": "code",
   "execution_count": 47,
   "id": "930ac7f8",
   "metadata": {},
   "outputs": [
    {
     "data": {
      "text/plain": [
       "<AxesSubplot:>"
      ]
     },
     "execution_count": 47,
     "metadata": {},
     "output_type": "execute_result"
    },
    {
     "data": {
      "image/png": "[encoded data removed]",
      "text/plain": [
       "<Figure size 432x288 with 1 Axes>"
      ]
     },
     "metadata": {
      "needs_background": "light"
     },
     "output_type": "display_data"
    }
   ],
   "source": [
    "losses  = pd.DataFrame(cnn_model.history.history)\n",
    "losses.plot()"
   ]
  },
  {
   "cell_type": "markdown",
   "id": "ca3cc7b9",
   "metadata": {},
   "source": [
    "+ Getting model accuracy upto 78 percent where as validation accuracy is arround 71 percent\n",
    "+ Accuracy is upto acceptable limit"
   ]
  },
  {
   "cell_type": "code",
   "execution_count": 48,
   "id": "b470c4f9",
   "metadata": {},
   "outputs": [
    {
     "name": "stdout",
     "output_type": "stream",
     "text": [
      "313/313 [==============================] - 11s 34ms/step - loss: 0.8910 - accuracy: 0.7055\n"
     ]
    },
    {
     "data": {
      "text/plain": [
       "[0.8910276293754578, 0.7055000066757202]"
      ]
     },
     "execution_count": 48,
     "metadata": {},
     "output_type": "execute_result"
    }
   ],
   "source": [
    "cnn_model.evaluate(X_test, y_test)"
   ]
  },
  {
   "cell_type": "code",
   "execution_count": 50,
   "id": "a99757b3",
   "metadata": {},
   "outputs": [
    {
     "name": "stdout",
     "output_type": "stream",
     "text": [
      "313/313 [==============================] - 11s 33ms/step\n"
     ]
    },
    {
     "data": {
      "text/plain": [
       "[3, 8, 8, 0, 6]"
      ]
     },
     "execution_count": 50,
     "metadata": {},
     "output_type": "execute_result"
    }
   ],
   "source": [
    "y_pred = cnn_model.predict(X_test)\n",
    "y_pred = [np.argmax(element) for element in y_pred]\n",
    "y_pred[:5]"
   ]
  },
  {
   "cell_type": "code",
   "execution_count": 51,
   "id": "48bfcf20",
   "metadata": {},
   "outputs": [
    {
     "data": {
      "text/plain": [
       "array([3, 8, 8, 0, 6], dtype=uint8)"
      ]
     },
     "execution_count": 51,
     "metadata": {},
     "output_type": "execute_result"
    }
   ],
   "source": [
    "y_test[:5]"
   ]
  },
  {
   "cell_type": "markdown",
   "id": "feb9d47d",
   "metadata": {},
   "source": [
    "+ **Getting first 5 prediction exacly equal to test values**"
   ]
  },
  {
   "cell_type": "code",
   "execution_count": 53,
   "id": "a4fd515d",
   "metadata": {},
   "outputs": [
    {
     "data": {
      "image/png": "[encoded data removed]",
      "text/plain": [
       "<Figure size 576x360 with 1 Axes>"
      ]
     },
     "metadata": {
      "needs_background": "light"
     },
     "output_type": "display_data"
    }
   ],
   "source": [
    "show_image(X_test, y_test, 5)"
   ]
  },
  {
   "cell_type": "code",
   "execution_count": 54,
   "id": "073ddf33",
   "metadata": {},
   "outputs": [
    {
     "data": {
      "text/plain": [
       "'frog'"
      ]
     },
     "execution_count": 54,
     "metadata": {},
     "output_type": "execute_result"
    }
   ],
   "source": [
    "classes[y_pred[5]]"
   ]
  },
  {
   "cell_type": "markdown",
   "id": "301a630a",
   "metadata": {},
   "source": [
    "+ __Getting same prediction__"
   ]
  },
  {
   "cell_type": "markdown",
   "id": "0f75ce2f",
   "metadata": {},
   "source": [
    "## Thank You"
   ]
  }
 ],
 "metadata": {
  "kernelspec": {
   "display_name": "Python 3 (ipykernel)",
   "language": "python",
   "name": "python3"
  },
  "language_info": {
   "codemirror_mode": {
    "name": "ipython",
    "version": 3
   },
   "file_extension": ".py",
   "mimetype": "text/x-python",
   "name": "python",
   "nbconvert_exporter": "python",
   "pygments_lexer": "ipython3",
   "version": "3.9.7"
  }
 },
 "nbformat": 4,
 "nbformat_minor": 5
}
